{
 "cells": [
  {
   "cell_type": "code",
   "execution_count": null,
   "id": "b73a4f0a-b9f2-434d-8d37-ad216e657c96",
   "metadata": {},
   "outputs": [],
   "source": [
    "# The def keyword is used to create a function."
   ]
  },
  {
   "cell_type": "code",
   "execution_count": 15,
   "id": "b5a101b9-4fa5-4714-ba9f-1a93e8a1fc73",
   "metadata": {},
   "outputs": [],
   "source": [
    "def odd_numbers():\n",
    "    odds = []\n",
    "    for num in range(1, 26):\n",
    "        if num % 2 != 0:\n",
    "            odds.append(num)\n",
    "    return odds"
   ]
  },
  {
   "cell_type": "code",
   "execution_count": 31,
   "id": "6673438d-8acd-4820-a4b0-03c1a88c9146",
   "metadata": {},
   "outputs": [
    {
     "data": {
      "text/plain": [
       "[1, 3, 5, 7, 9, 11, 13, 15, 17, 19, 21, 23, 25]"
      ]
     },
     "execution_count": 31,
     "metadata": {},
     "output_type": "execute_result"
    }
   ],
   "source": [
    "odd_numbers()"
   ]
  },
  {
   "cell_type": "code",
   "execution_count": 16,
   "id": "80cfeab4-8bb6-4928-b626-40594e188505",
   "metadata": {},
   "outputs": [],
   "source": [
    " ## args is used to pass a variable number of non-key worded arguments to a function."
   ]
  },
  {
   "cell_type": "code",
   "execution_count": null,
   "id": "d89ebec3-ebf4-4d8b-8d22-757e76ab0d41",
   "metadata": {},
   "outputs": [],
   "source": [
    "## kwargs is used to pass a variable number of keyworded arguments to a function.\n"
   ]
  },
  {
   "cell_type": "code",
   "execution_count": 12,
   "id": "7223a12e-b45b-4ed2-9c11-d89221a255a5",
   "metadata": {},
   "outputs": [],
   "source": [
    "def sum_numbers(*args):\n",
    "    total = 0\n",
    "    for number in args:\n",
    "        total += number\n",
    "    return total"
   ]
  },
  {
   "cell_type": "code",
   "execution_count": 13,
   "id": "99bb66cd-3814-484a-a974-6e9e5fe37edb",
   "metadata": {},
   "outputs": [],
   "source": [
    "def print_info(**kwargs):\n",
    "    for key, value in kwargs.items():\n",
    "        print(f\"{key}: {value}\")"
   ]
  },
  {
   "cell_type": "code",
   "execution_count": null,
   "id": "8a5c3855-fd67-4c29-956e-cbb544347a34",
   "metadata": {},
   "outputs": [],
   "source": [
    "#Iterator in Python is an object that is used to iterate over iterable objects like lists, tuples, dicts, and sets."
   ]
  },
  {
   "cell_type": "code",
   "execution_count": 29,
   "id": "9507011d-64dc-4224-adee-764a7c2ba8d3",
   "metadata": {},
   "outputs": [],
   "source": [
    "class MyIterator:\n",
    "    def __init__(self, data):\n",
    "        self.data = data\n",
    "        self.index = 0\n",
    "\n",
    "    def __iter__(self):\n",
    "        return self\n",
    "\n",
    "    def __next__(self):\n",
    "        if self.index >= len(self.data):\n",
    "            raise StopIteration\n",
    "        value = self.data[self.index]\n",
    "        self.index += 1\n",
    "        return value\n"
   ]
  },
  {
   "cell_type": "code",
   "execution_count": 30,
   "id": "64910f7b-7f60-456a-aaa1-a01ed2b7594f",
   "metadata": {},
   "outputs": [
    {
     "name": "stdout",
     "output_type": "stream",
     "text": [
      "2\n",
      "4\n",
      "6\n",
      "8\n",
      "10\n"
     ]
    }
   ],
   "source": [
    "my_iterator = MyIterator([2, 4, 6, 8, 10, 12, 14, 16, 18, 20])\n",
    "\n",
    "for i in range(5):\n",
    "    print(next(my_iterator))\n"
   ]
  },
  {
   "cell_type": "code",
   "execution_count": null,
   "id": "fd6fef51-f681-4e95-ace9-0604438d69aa",
   "metadata": {},
   "outputs": [],
   "source": [
    "###Python Generator functions allow you to declare a function that behaves likes an iterator, allowing programmers to make an iterator in a fast,easy, and clean way"
   ]
  },
  {
   "cell_type": "code",
   "execution_count": null,
   "id": "8dd6d7e5-8701-4acf-8fcb-951597269e9a",
   "metadata": {},
   "outputs": [],
   "source": [
    "##The yield keyword is used in Python to define a generator function."
   ]
  },
  {
   "cell_type": "code",
   "execution_count": 7,
   "id": "ba3e7c3a-2c7d-4da0-8fd2-d2432baca9d3",
   "metadata": {},
   "outputs": [],
   "source": [
    "def generate_even_numbers(n):\n",
    "    for i in range(n):\n",
    "        if i % 2 == 0:\n",
    "            yield i\n"
   ]
  },
  {
   "cell_type": "code",
   "execution_count": 8,
   "id": "15f7e6b9-5ac3-42cf-97c7-05b2ba300626",
   "metadata": {},
   "outputs": [
    {
     "name": "stdout",
     "output_type": "stream",
     "text": [
      "0\n",
      "2\n",
      "4\n",
      "6\n",
      "8\n"
     ]
    }
   ],
   "source": [
    "even_numbers = generate_even_numbers(10)\n",
    "\n",
    "for num in even_numbers:\n",
    "    print(num)\n"
   ]
  },
  {
   "cell_type": "code",
   "execution_count": 9,
   "id": "b3187316-9980-474b-be84-05892f0fcc77",
   "metadata": {},
   "outputs": [],
   "source": [
    "def generate_primes():\n",
    "    num = 2\n",
    "    primes = []\n",
    "    while num < 1000:\n",
    "        is_prime = True\n",
    "        for prime in primes:\n",
    "            if num % prime == 0:\n",
    "                is_prime = False\n",
    "                break\n",
    "        if is_prime:\n",
    "            primes.append(num)\n",
    "            yield num\n",
    "        num += 1\n"
   ]
  },
  {
   "cell_type": "code",
   "execution_count": 10,
   "id": "be2f6990-3b0c-49ab-b869-9e65760631d9",
   "metadata": {},
   "outputs": [
    {
     "name": "stdout",
     "output_type": "stream",
     "text": [
      "2\n",
      "3\n",
      "5\n",
      "7\n",
      "11\n",
      "13\n",
      "17\n",
      "19\n",
      "23\n",
      "29\n",
      "31\n",
      "37\n",
      "41\n",
      "43\n",
      "47\n",
      "53\n",
      "59\n",
      "61\n",
      "67\n",
      "71\n"
     ]
    }
   ],
   "source": [
    "prime_generator = generate_primes()\n",
    "\n",
    "for i in range(20):\n",
    "    print(next(prime_generator))\n"
   ]
  },
  {
   "cell_type": "code",
   "execution_count": 11,
   "id": "074327b8-b8cf-4313-b771-ca9df46142db",
   "metadata": {},
   "outputs": [
    {
     "name": "stdout",
     "output_type": "stream",
     "text": [
      "0 1 1 2 3 5 8 13 21 34 "
     ]
    }
   ],
   "source": [
    "a, b = 0, 1\n",
    "count = 0\n",
    "\n",
    "\n",
    "while count < 10:\n",
    "    print(a, end=\" \")\n",
    "    c = a + b\n",
    "    a = b\n",
    "    b = c\n",
    "    count += 1\n"
   ]
  },
  {
   "cell_type": "code",
   "execution_count": 12,
   "id": "bc2b7455-5905-4b86-a6ca-965051df73e9",
   "metadata": {},
   "outputs": [
    {
     "name": "stdout",
     "output_type": "stream",
     "text": [
      "['p', 'w', 's', 'k', 'i', 'l', 'l', 's']\n"
     ]
    }
   ],
   "source": [
    "string = 'pwskills'\n",
    "result = [char for char in string if char in 'pwskills']\n",
    "print(result)\n"
   ]
  },
  {
   "cell_type": "code",
   "execution_count": 13,
   "id": "e6492d3c-03d6-47c9-977b-81dd572c1069",
   "metadata": {},
   "outputs": [
    {
     "name": "stdin",
     "output_type": "stream",
     "text": [
      "Enter a number:  5\n"
     ]
    },
    {
     "name": "stdout",
     "output_type": "stream",
     "text": [
      "5 is a palindrome number\n"
     ]
    }
   ],
   "source": [
    "num = int(input(\"Enter your  number: \"))\n",
    "temp = num\n",
    "rev = 0\n",
    "\n",
    "while temp > 0:\n",
    "    digit = temp % 10\n",
    "    rev = rev * 10 + digit\n",
    "    temp //= 10\n",
    "\n",
    "if num == rev:\n",
    "    print(num, \"its  palindrome number\")\n",
    "else:\n",
    "    print(num, \"its not a palindrome number\")\n"
   ]
  },
  {
   "cell_type": "code",
   "execution_count": null,
   "id": "9a73d082-9692-4dcf-a48d-35949dc26895",
   "metadata": {},
   "outputs": [],
   "source": []
  }
 ],
 "metadata": {
  "kernelspec": {
   "display_name": "Python 3 (ipykernel)",
   "language": "python",
   "name": "python3"
  },
  "language_info": {
   "codemirror_mode": {
    "name": "ipython",
    "version": 3
   },
   "file_extension": ".py",
   "mimetype": "text/x-python",
   "name": "python",
   "nbconvert_exporter": "python",
   "pygments_lexer": "ipython3",
   "version": "3.10.6"
  }
 },
 "nbformat": 4,
 "nbformat_minor": 5
}
